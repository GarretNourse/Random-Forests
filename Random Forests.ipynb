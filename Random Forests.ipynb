{
  "nbformat": 4,
  "nbformat_minor": 0,
  "metadata": {
    "colab": {
      "name": "HW7_Nourse_Garret.ipynb",
      "provenance": [],
      "collapsed_sections": [
        "UDtpJLrCXdj-",
        "TC9xxX-MaJiJ"
      ]
    },
    "kernelspec": {
      "name": "python3",
      "display_name": "Python 3"
    },
    "language_info": {
      "name": "python"
    }
  },
  "cells": [
    {
      "cell_type": "markdown",
      "metadata": {
        "id": "YEBNn7WNVVH9"
      },
      "source": [
        "# Homework 7 (30 marks)\n",
        "Create a copy of the notebook to start answering the questions. Name your notebook in the format HW7_lastname_firstname.ipynb to facilitate the grading process.\n",
        "\n",
        "Answer all the questions, test your code to ensure there are no errors and the results are as expected. Once you have answered all the questions, save the final copy, then go to File-> click on Download.ipynb. Once the local copy has been downloaded, submit your file on Blackboard under the corresponding assignment section. Also provide us a link to your notebook during submission.\n",
        "\n",
        "NOTE: Please give the TAs the permission to access your notebooks through the links you have provided during submission.\n",
        "\n",
        "The due date of this homework is 04/23/2021 (Friday).\n",
        "\n",
        "Please ensure you follow all the steps mentioned in the homework.\n",
        "\n",
        "You can submit your solutions any number of times until the deadline.\n",
        "\n",
        "The datasets used in this homework can be found in the google drive link below -\n",
        "\n",
        "https://drive.google.com/drive/folders/1NxCh4X7u7wVo5aHojxjLNs9wC7B7zJhb?usp=sharing\n",
        "\n",
        "Follow the necessary steps to import data to test your code. You can use any method to read your data in the notebook. We will not be grading the methods you use. We will only grade the code from the point where you read the dataset into a pandas dataframe - (pd.read_csv('file_name'))"
      ]
    },
    {
      "cell_type": "markdown",
      "metadata": {
        "id": "XNkmD9GdVx37"
      },
      "source": [
        "Import all the libraries you require in the cell below.\n"
      ]
    },
    {
      "cell_type": "code",
      "metadata": {
        "id": "O38dWgFrTt9g"
      },
      "source": [
        "import pandas as pd\n",
        "import numpy as np\n",
        "from sklearn.impute import SimpleImputer\n",
        "from sklearn.preprocessing import MinMaxScaler\n",
        "\n",
        "import matplotlib.pyplot as plt\n",
        "import seaborn as sns\n",
        "from sklearn.model_selection import train_test_split\n",
        "from sklearn.dummy import DummyClassifier\n",
        "from sklearn.ensemble import BaggingClassifier\n",
        "from sklearn.metrics import accuracy_score\n",
        "from sklearn.metrics import (\n",
        "    classification_report,\n",
        "    recall_score,\n",
        "    precision_score,\n",
        "    accuracy_score\n",
        ")\n",
        "from sklearn.ensemble import RandomForestClassifier, VotingClassifier\n",
        "from sklearn.ensemble import AdaBoostClassifier\n",
        "from sklearn.tree import DecisionTreeClassifier\n",
        "from sklearn.ensemble import GradientBoostingClassifier\n",
        "from sklearn.svm import SVC\n",
        "from sklearn.linear_model import LogisticRegression"
      ],
      "execution_count": null,
      "outputs": []
    },
    {
      "cell_type": "markdown",
      "metadata": {
        "id": "HggTkCZoWOSE"
      },
      "source": [
        "## Implement the Ensemble methods learnt in class and compare their accuarcies."
      ]
    },
    {
      "cell_type": "markdown",
      "metadata": {
        "id": "g-eAjVVDV_Nm"
      },
      "source": [
        "The dataset you are going to be using for homework is the **Wisconsin Breast Cancer dataset (cancer.csv)**\n",
        "\n",
        "The dataset contains a total number of 10 features labeled in either benign or malignant classes. The features have 699 instances out of which 16 feature values are missing. The dataset only contains numeric values.\n",
        "\n",
        "Attribute Information:\n",
        "\n",
        "1. Sample code number: id number\n",
        "2. Clump Thickness: 1 - 10\n",
        "3. Uniformity of Cell Size: 1 - 10\n",
        "4. Uniformity of Cell Shape: 1 - 10\n",
        "5. Marginal Adhesion: 1 - 10\n",
        "6. Single Epithelial Cell Size: 1 - 10\n",
        "7. Bare Nuclei: 1 - 10\n",
        "8. Bland Chromatin: 1 - 10\n",
        "9. Normal Nucleoli: 1 - 10\n",
        "10. Mitoses: 1 - 10\n",
        "11. Class: (2 for benign, 4 for malignant) (**target variable**)\n",
        "\n",
        "For more information: https://archive.ics.uci.edu/ml/datasets/breast+cancer+wisconsin+(original)"
      ]
    },
    {
      "cell_type": "markdown",
      "metadata": {
        "id": "g3iLZY-gXhVH"
      },
      "source": [
        "### 1. Read the dataset into variable called '**data**' (1 mark)"
      ]
    },
    {
      "cell_type": "code",
      "metadata": {
        "id": "U2II5L3AXn2A"
      },
      "source": [
        "pd.set_option('display.max_columns', 100)\n",
        "data = pd.read_csv('cancer.csv')\n"
      ],
      "execution_count": null,
      "outputs": []
    },
    {
      "cell_type": "markdown",
      "metadata": {
        "id": "7DvQpJcMXRd0"
      },
      "source": [
        "### **Preprocessing**: Data needs to be preprocessed before implementing ensemble methods. It is done for you here. \n",
        "### Run the below code first and then answer the questions from 2 - 7."
      ]
    },
    {
      "cell_type": "markdown",
      "metadata": {
        "id": "UDtpJLrCXdj-"
      },
      "source": [
        "#### Deleting unnecessary columns: The column \"Sample code number\" is just an indicator and it's of no use in the modeling. So, let's drop it:\n"
      ]
    },
    {
      "cell_type": "code",
      "metadata": {
        "id": "3bbOI9AYTziJ"
      },
      "source": [
        "data.drop(['Sample Code Number'],axis = 1, inplace = True)\n"
      ],
      "execution_count": null,
      "outputs": []
    },
    {
      "cell_type": "markdown",
      "metadata": {
        "id": "uaUqMhEPYqSF"
      },
      "source": [
        "#### Handling missing values : \n",
        "As mentioned earlier, the dataset contains missing values. The column named \"Bland Chromatin\" contains them. The missing values are represneted as \"?\". \n",
        "\n",
        "Replace those \"?\"s with 0's and impute them with Mean Imputation"
      ]
    },
    {
      "cell_type": "code",
      "metadata": {
        "id": "cHu_DIDcZs_8",
        "colab": {
          "base_uri": "https://localhost:8080/"
        },
        "outputId": "17b8c4e7-f6ca-4808-a5ce-d6da39ddb2a4"
      },
      "source": [
        "data['Bland Chromatin']"
      ],
      "execution_count": null,
      "outputs": [
        {
          "output_type": "execute_result",
          "data": {
            "text/plain": [
              "0       1\n",
              "1      10\n",
              "2       2\n",
              "3       4\n",
              "4       1\n",
              "       ..\n",
              "694     2\n",
              "695     1\n",
              "696     3\n",
              "697     4\n",
              "698     5\n",
              "Name: Bland Chromatin, Length: 699, dtype: object"
            ]
          },
          "metadata": {
            "tags": []
          },
          "execution_count": 5
        }
      ]
    },
    {
      "cell_type": "code",
      "metadata": {
        "id": "u_5GSsVjU930"
      },
      "source": [
        "data.replace('?',0, inplace=True)"
      ],
      "execution_count": null,
      "outputs": []
    },
    {
      "cell_type": "code",
      "metadata": {
        "id": "LV3PVQB0U_mF"
      },
      "source": [
        "# Convert the DataFrame object into NumPy array otherwise you will not be able to impute\n",
        "values = data.values\n",
        "# Now impute it\n",
        "imputer = SimpleImputer(missing_values=np.nan, strategy='mean')\n",
        "imputedData = imputer.fit_transform(values)"
      ],
      "execution_count": null,
      "outputs": []
    },
    {
      "cell_type": "markdown",
      "metadata": {
        "id": "TC9xxX-MaJiJ"
      },
      "source": [
        "#### Normalizing the data:\n",
        "Ranges of the features of the dataset are not the same. This may cause a problem. A small change in a feature might not affect the other. To address this problem, normalize the ranges of the features to a uniform range, in this case, 0 - 1."
      ]
    },
    {
      "cell_type": "code",
      "metadata": {
        "id": "VomHojxET85c",
        "colab": {
          "base_uri": "https://localhost:8080/"
        },
        "outputId": "4f34a1ef-649a-4190-c0c6-9327c2954da9"
      },
      "source": [
        "scaler = MinMaxScaler(feature_range=(0, 1))\n",
        "normalizedData = scaler.fit_transform(imputedData)\n",
        "cols = ['Clump Thickness', 'Uniformity of Cell Size', 'Uniformity of Cell Shape', 'Marginal Adhesion', 'Single Epithelial Cell Size', 'Bland Chromatin', 'Bare Nuclei', 'Normal Nucleoli', 'Mitosis','Class']\n",
        "normalizedData = pd.DataFrame(normalizedData, columns=cols)\n",
        "print(normalizedData.head())"
      ],
      "execution_count": null,
      "outputs": [
        {
          "output_type": "stream",
          "text": [
            "   Clump Thickness  Uniformity of Cell Size  Uniformity of Cell Shape  \\\n",
            "0         0.444444                 0.000000                  0.000000   \n",
            "1         0.444444                 0.333333                  0.333333   \n",
            "2         0.222222                 0.000000                  0.000000   \n",
            "3         0.555556                 0.777778                  0.777778   \n",
            "4         0.333333                 0.000000                  0.000000   \n",
            "\n",
            "   Marginal Adhesion  Single Epithelial Cell Size  Bland Chromatin  \\\n",
            "0           0.000000                     0.111111              0.1   \n",
            "1           0.444444                     0.666667              1.0   \n",
            "2           0.000000                     0.111111              0.2   \n",
            "3           0.000000                     0.222222              0.4   \n",
            "4           0.222222                     0.111111              0.1   \n",
            "\n",
            "   Bare Nuclei  Normal Nucleoli  Mitosis  Class  \n",
            "0     0.222222         0.000000      0.0    0.0  \n",
            "1     0.222222         0.111111      0.0    0.0  \n",
            "2     0.222222         0.000000      0.0    0.0  \n",
            "3     0.222222         0.666667      0.0    0.0  \n",
            "4     0.222222         0.000000      0.0    0.0  \n"
          ],
          "name": "stdout"
        }
      ]
    },
    {
      "cell_type": "markdown",
      "metadata": {
        "id": "Sb2YjZckaZ2-"
      },
      "source": [
        "### Data preprocessing is done and now you will answer the below questions using the **normalizedData**: "
      ]
    },
    {
      "cell_type": "markdown",
      "metadata": {
        "id": "Cq2ChemrbDz2"
      },
      "source": [
        "### 2. Split the data into test and training data with test size - 30%. Compute the baseline classification accuracy for X_train. (3 marks)"
      ]
    },
    {
      "cell_type": "code",
      "metadata": {
        "id": "gOshE9K_UA5S",
        "colab": {
          "base_uri": "https://localhost:8080/"
        },
        "outputId": "23ac9fa9-55ea-413e-dd0c-8f83ca4345db"
      },
      "source": [
        "X = data.iloc[:,:-1]\n",
        "y = data.iloc[:, -1]\n",
        "X_train, X_test, y_train, y_test = train_test_split(X, y, test_size=.3, stratify=y)\n",
        "dummy_classifier = DummyClassifier(strategy='most_frequent')\n",
        "dummy_classifier.fit(X_train, y_train)\n",
        "baseline_accuracy = dummy_classifier.score(X_test, y_test)\n",
        "print('Baseline Accuracy: ' + str(round(baseline_accuracy, 3)))"
      ],
      "execution_count": null,
      "outputs": [
        {
          "output_type": "stream",
          "text": [
            "Baseline Accuracy: 0.657\n"
          ],
          "name": "stdout"
        }
      ]
    },
    {
      "cell_type": "markdown",
      "metadata": {
        "id": "J3RUF9RvgA-N"
      },
      "source": [
        "### 3.  Bagging : Build a generic Bagging ensemble and print the accuracy (4 marks)\n",
        "---\n",
        "\n",
        "\n",
        "Hyperparameters:\n",
        "\n",
        "Base estimator = DecisionTreeClassifier\n",
        "\n",
        "n_estimators = 10\n",
        "\n",
        "random_state = 42\n",
        "\n",
        "---\n"
      ]
    },
    {
      "cell_type": "code",
      "metadata": {
        "id": "C78-znrIUDcs",
        "colab": {
          "base_uri": "https://localhost:8080/"
        },
        "outputId": "3cf669e0-699f-4b62-9e13-1ec35e3ec8ce"
      },
      "source": [
        "baseEstimator = DecisionTreeClassifier()\n",
        "BaggingModel = BaggingClassifier(base_estimator=baseEstimator, n_estimators=10, random_state = 42)\n",
        "BaggingModel.fit(X_train, y_train)\n",
        "pred_bagging = BaggingModel.predict(X_test)\n",
        "acc_bagging = accuracy_score(y_test, pred_bagging)\n",
        "\n",
        "print(' Accuracy: ' + str(round(acc_bagging, 3)))"
      ],
      "execution_count": null,
      "outputs": [
        {
          "output_type": "stream",
          "text": [
            " Accuracy: 0.938\n"
          ],
          "name": "stdout"
        }
      ]
    },
    {
      "cell_type": "markdown",
      "metadata": {
        "id": "mlupszlqg6El"
      },
      "source": [
        "### 4. RandomForest : (7 marks)\n",
        "#### a) Build a Random Forest model and print the accuracy (4 marks)\n",
        "---\n",
        "\n",
        "Constructor arguments: \n",
        "\n",
        "\n",
        "n_estimators = 100, max_features = 7 and random_state = 42 \n",
        "\n",
        "\n",
        "---\n",
        "\n",
        "\n"
      ]
    },
    {
      "cell_type": "code",
      "metadata": {
        "colab": {
          "base_uri": "https://localhost:8080/"
        },
        "id": "TagawD02hKlF",
        "outputId": "debd70f0-2f6c-4842-8132-d764683993b3"
      },
      "source": [
        "RandomForestModel = RandomForestClassifier(n_estimators=100, max_features = 7, random_state = 42)\n",
        "RandomForestModel.fit(X_train, y_train)\n",
        "RF_predictions = RandomForestModel.predict(X_test)\n",
        "accuracy = accuracy_score(y_test, RF_predictions)\n",
        "\n",
        "print(' Accuracy: ' + str(round(accuracy, 3)))"
      ],
      "execution_count": null,
      "outputs": [
        {
          "output_type": "stream",
          "text": [
            " Accuracy: 0.948\n"
          ],
          "name": "stdout"
        }
      ]
    },
    {
      "cell_type": "markdown",
      "metadata": {
        "id": "48iH9eV8xkbE"
      },
      "source": [
        "####  b) Calculate the top 3 important features for the above **RandomForest** model and print them (3 marks)"
      ]
    },
    {
      "cell_type": "code",
      "metadata": {
        "id": "M469DqsQxlFN",
        "colab": {
          "base_uri": "https://localhost:8080/",
          "height": 485
        },
        "outputId": "fa086921-7f78-4917-9336-53b71d2edaf9"
      },
      "source": [
        "featureImportance = pd.Series(RandomForestModel.feature_importances_, index = X.columns)\n",
        "sortedImportances = featureImportance.sort_values()\n",
        "sortedImportances.plot(kind='barh')\n",
        "plt.title(\"Feature Importance\")\n",
        "plt.plot()\n",
        "fi = RandomForestModel.feature_importances_\n",
        "features = X.columns\n",
        "fd = pd.DataFrame({'features': features, 'importance': fi})\n",
        "print(fd)\n",
        "a = fd['importance'][0]\n",
        "index = 0\n",
        "for i in range(len(fd)):\n",
        "  if fd['importance'][i] > a:\n",
        "    a = fd['importance'][i]\n",
        "    index = i\n",
        "first = fd['features'][index]   \n",
        "b = fd['importance'][0]\n",
        "index = 0\n",
        "for i in range(len(fd)):\n",
        "  if fd['importance'][i] < a and fd['importance'][i] > b:\n",
        "    b = fd['importance'][i]\n",
        "    index = i \n",
        "second = fd['features'][index]\n",
        "c = fd['importance'][0]\n",
        "index = 0\n",
        "for i in range(len(fd)):\n",
        "  if fd['importance'][i] < a and fd['importance'][i] < b and fd['importance'][i] > c:\n",
        "    c = fd['importance'][i]\n",
        "    index = i \n",
        "third = fd['features'][index] \n",
        "print('')\n",
        "print('The most important features are, in order, ' + first + ', ' + second + ', and ' + third)"
      ],
      "execution_count": null,
      "outputs": [
        {
          "output_type": "stream",
          "text": [
            "                      features  importance\n",
            "0              Clump Thickness    0.049299\n",
            "1     Uniformity of Cell Size     0.377654\n",
            "2     Uniformity of Cell Shape    0.425358\n",
            "3            Marginal Adhesion    0.010879\n",
            "4  Single Epithelial Cell Size    0.022409\n",
            "5              Bland Chromatin    0.069392\n",
            "6                  Bare Nuclei    0.025690\n",
            "7              Normal Nucleoli    0.016530\n",
            "8                      Mitosis    0.002789\n",
            "\n",
            "The most important features are, in order, Uniformity of Cell Shape, Uniformity of Cell Size , and Bland Chromatin\n"
          ],
          "name": "stdout"
        },
        {
          "output_type": "display_data",
          "data": {
            "image/png": "[encoded data removed]",
            "text/plain": [
              "<Figure size 432x288 with 1 Axes>"
            ]
          },
          "metadata": {
            "tags": [],
            "needs_background": "light"
          }
        }
      ]
    },
    {
      "cell_type": "markdown",
      "metadata": {
        "id": "rnrkSasYh6gF"
      },
      "source": [
        "### 5. Boosting: (7 marks)\n",
        "#### a) Build an AdaBoost model with training data and print the accuracy (4 marks)\n",
        "---\n",
        "\n",
        "Hyperparameters:\n",
        "\n",
        "Base estimator = DecisionTreeClassifier, max_depth = 4\n",
        "\n",
        "n_estimators = 200\n",
        "\n",
        "random_state = 42\n",
        "\n",
        "learning_rate = 0.05\n",
        "\n",
        "\n",
        "---\n",
        "\n",
        "\n",
        "\n",
        "\n",
        "\n",
        "\n",
        "\n"
      ]
    },
    {
      "cell_type": "code",
      "metadata": {
        "id": "DQIzaUjWUHv7",
        "colab": {
          "base_uri": "https://localhost:8080/"
        },
        "outputId": "27178bef-114a-4de4-f5d3-6f9ceea40362"
      },
      "source": [
        "baseEstimator = DecisionTreeClassifier(max_depth=4)\n",
        "AdaBoost = AdaBoostClassifier(baseEstimator, n_estimators=200, random_state=42, learning_rate=.05)\n",
        "AdaBoost.fit(X_train, y_train)\n",
        "accuracy = accuracy_score(y_test, AdaBoost.predict(X_test))\n",
        "print(' Accuracy: ' + str(round(accuracy, 3)))"
      ],
      "execution_count": null,
      "outputs": [
        {
          "output_type": "stream",
          "text": [
            " Accuracy: 0.952\n"
          ],
          "name": "stdout"
        }
      ]
    },
    {
      "cell_type": "markdown",
      "metadata": {
        "id": "usBQDazfw2L1"
      },
      "source": [
        "#### b) Calculate the top 3 important features for the above **AdaBoost** model and print them (3 marks)"
      ]
    },
    {
      "cell_type": "code",
      "metadata": {
        "id": "jbEUjwQRw3rW",
        "colab": {
          "base_uri": "https://localhost:8080/",
          "height": 485
        },
        "outputId": "fd4589f4-94c0-465b-acf1-679f4fb337e9"
      },
      "source": [
        "featureImportance = pd.Series(AdaBoost.feature_importances_, index = X.columns)\n",
        "sortedImportances = featureImportance.sort_values()\n",
        "sortedImportances.plot(kind='barh')\n",
        "plt.title(\"Feature Importance\")\n",
        "plt.plot()\n",
        "fi = AdaBoost.feature_importances_\n",
        "features = X.columns\n",
        "fd = pd.DataFrame({'features': features, 'importance': fi})\n",
        "print(fd)\n",
        "a = fd['importance'][0]\n",
        "index = 0\n",
        "for i in range(len(fd)):\n",
        "  if fd['importance'][i] > a:\n",
        "    a = fd['importance'][i]\n",
        "    index = i\n",
        "first = fd['features'][index]   \n",
        "b = fd['importance'][index+1]\n",
        "index = 0\n",
        "for i in range(len(fd)):\n",
        "  if fd['importance'][i] < a and fd['importance'][i] > b:\n",
        "    b = fd['importance'][i]\n",
        "    index = i \n",
        "second = fd['features'][index]\n",
        "c = fd['importance'][index+1]\n",
        "index = 0\n",
        "for i in range(len(fd)):\n",
        "  if fd['importance'][i] < a and fd['importance'][i] < b and fd['importance'][i] > c:\n",
        "    c = fd['importance'][i]\n",
        "    index = i \n",
        "third = fd['features'][index] \n",
        "print('')\n",
        "print('The most important features are, in order, ' + first + ', ' + second + ', and ' + third)"
      ],
      "execution_count": null,
      "outputs": [
        {
          "output_type": "stream",
          "text": [
            "                      features  importance\n",
            "0              Clump Thickness    0.234803\n",
            "1     Uniformity of Cell Size     0.041008\n",
            "2     Uniformity of Cell Shape    0.161213\n",
            "3            Marginal Adhesion    0.121243\n",
            "4  Single Epithelial Cell Size    0.048295\n",
            "5              Bland Chromatin    0.152892\n",
            "6                  Bare Nuclei    0.057776\n",
            "7              Normal Nucleoli    0.052007\n",
            "8                      Mitosis    0.130762\n",
            "\n",
            "The most important features are, in order, Clump Thickness, Uniformity of Cell Shape, and Bland Chromatin\n"
          ],
          "name": "stdout"
        },
        {
          "output_type": "display_data",
          "data": {
            "image/png": "[encoded data removed]",
            "text/plain": [
              "<Figure size 432x288 with 1 Axes>"
            ]
          },
          "metadata": {
            "tags": [],
            "needs_background": "light"
          }
        }
      ]
    },
    {
      "cell_type": "markdown",
      "metadata": {
        "id": "zMpdvP7ZjAOt"
      },
      "source": [
        "### 6. Voting : Using a voting classifier, build an ensemble of RandomForestClassifier, DecisionTreeClassifier, Support Vector Machine and Logistic Regression. (7 marks)\n",
        "\n",
        "\n",
        "---\n",
        "\n",
        "\n",
        "Use max_depth = 4, n_estimators = 200, voting = soft"
      ]
    },
    {
      "cell_type": "code",
      "metadata": {
        "id": "3M3ZIcrqUKjK",
        "colab": {
          "base_uri": "https://localhost:8080/"
        },
        "outputId": "52bf38b6-d6c4-4f3d-8644-fe5ad6754643"
      },
      "source": [
        "randomForest = RandomForestClassifier(n_estimators=200, max_depth=4)\n",
        "svm = SVC(probability=True)\n",
        "logisticRegression = LogisticRegression()\n",
        "decisionTree = DecisionTreeClassifier(max_depth=4)\n",
        "\n",
        "ensemble = VotingClassifier(estimators = [('RandomForest', randomForest), ('SVM', svm), ('LogisticRegression', logisticRegression), ('DecisionTree', decisionTree)], voting='soft')\n",
        "\n",
        "ensemble.fit(X_train, y_train)\n",
        "\n",
        "predictions = ensemble.predict(X_test)\n",
        "accuracy = accuracy_score(y_test, predictions)\n",
        "print(' Accuracy: ' + str(round(accuracy, 3)))"
      ],
      "execution_count": null,
      "outputs": [
        {
          "output_type": "stream",
          "text": [
            " Accuracy: 0.957\n"
          ],
          "name": "stdout"
        }
      ]
    },
    {
      "cell_type": "markdown",
      "metadata": {
        "id": "Wj2CVbBYVTun"
      },
      "source": [
        "### 7. Mention the best model among the above 4 models and its accuracy (1 mark)"
      ]
    },
    {
      "cell_type": "code",
      "metadata": {
        "id": "gj09m4z_lXNB"
      },
      "source": [
        "# The best model was the ensemble model with an accuracy of 95.7%. It appears that\n",
        "# the ensemble was able to conceive a sort of \"super-model\" amongst all of the other four\n",
        "# models whose predictive ability was greater than each of the four's individual predidictive abilities."
      ],
      "execution_count": null,
      "outputs": []
    }
  ]
}